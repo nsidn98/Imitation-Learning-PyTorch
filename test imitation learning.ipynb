{
 "cells": [
  {
   "cell_type": "code",
   "execution_count": 1,
   "metadata": {},
   "outputs": [],
   "source": [
    "from model import StochasticPolicy\n",
    "import numpy as np\n",
    "import pandas as pd\n",
    "from make_data import BoxMaker\n",
    "import torch"
   ]
  },
  {
   "cell_type": "code",
   "execution_count": 2,
   "metadata": {},
   "outputs": [],
   "source": [
    "policy = StochasticPolicy(80*45,2)"
   ]
  },
  {
   "cell_type": "code",
   "execution_count": 3,
   "metadata": {},
   "outputs": [],
   "source": [
    "datamaker = BoxMaker()"
   ]
  },
  {
   "cell_type": "code",
   "execution_count": 4,
   "metadata": {},
   "outputs": [],
   "source": [
    "data=datamaker.get_data_dict()"
   ]
  },
  {
   "cell_type": "code",
   "execution_count": 5,
   "metadata": {},
   "outputs": [],
   "source": [
    "data = np.array(data)"
   ]
  },
  {
   "cell_type": "code",
   "execution_count": 31,
   "metadata": {},
   "outputs": [],
   "source": [
    "state = []\n",
    "dim = []\n",
    "action = []\n",
    "for i in range(len(data)):\n",
    "    state.append(data[i,0])\n",
    "    dim.append(data[i,1])\n",
    "    action.append(data[i,2][:2])\n",
    "state=torch.from_numpy(np.array(state))/45\n",
    "dim=torch.from_numpy(np.array(dim))/45\n",
    "action=torch.from_numpy(np.array(action))\n"
   ]
  },
  {
   "cell_type": "code",
   "execution_count": 21,
   "metadata": {},
   "outputs": [],
   "source": [
    "a,m,s=policy.sample(state.float(),dim.float())"
   ]
  },
  {
   "cell_type": "code",
   "execution_count": 22,
   "metadata": {},
   "outputs": [
    {
     "data": {
      "text/plain": [
       "tensor([[-0.7975,  0.8363],\n",
       "        [ 0.7626,  0.6619],\n",
       "        [-0.7027, -0.6847],\n",
       "        [ 0.5062,  0.6905],\n",
       "        [-0.4756,  0.1252],\n",
       "        [ 0.5738, -0.3649],\n",
       "        [-0.7550, -0.0152],\n",
       "        [-0.9898, -0.9477],\n",
       "        [ 0.5108, -0.4468],\n",
       "        [ 0.9623,  0.5362],\n",
       "        [-0.4386, -0.5187],\n",
       "        [ 0.7979,  0.0224],\n",
       "        [ 0.5941, -0.3949],\n",
       "        [-0.9985, -0.5595],\n",
       "        [ 0.9583, -0.5775],\n",
       "        [-0.2425, -0.4407],\n",
       "        [-0.9505,  0.0014],\n",
       "        [-0.4073, -0.2848],\n",
       "        [-0.9988, -0.2925],\n",
       "        [ 0.4370,  0.1461],\n",
       "        [-0.9996,  0.4023],\n",
       "        [-0.9999,  0.0979],\n",
       "        [-0.8732, -0.0867],\n",
       "        [ 1.0000, -0.2277],\n",
       "        [ 0.9999,  0.5163],\n",
       "        [ 0.9963,  0.3143],\n",
       "        [-0.8990, -0.2464]], grad_fn=<TanhBackward>)"
      ]
     },
     "execution_count": 22,
     "metadata": {},
     "output_type": "execute_result"
    }
   ],
   "source": [
    "a"
   ]
  },
  {
   "cell_type": "code",
   "execution_count": 13,
   "metadata": {},
   "outputs": [],
   "source": [
    "def get_shifted_action(action):\n",
    "#     action = action.detach().numpy()\n",
    "    x = action[:,0]\n",
    "    y = action[:,1]\n",
    "    x = x*40 + 40\n",
    "    y = y*45/2 + 45/2\n",
    "#     return x.astype(int),y.astype(int)\n",
    "    return x,y\n",
    "    "
   ]
  },
  {
   "cell_type": "code",
   "execution_count": 80,
   "metadata": {},
   "outputs": [],
   "source": [
    "x,y=get_shifted_action(a)"
   ]
  },
  {
   "cell_type": "code",
   "execution_count": 81,
   "metadata": {},
   "outputs": [
    {
     "data": {
      "text/plain": [
       "torch.Size([27, 2])"
      ]
     },
     "execution_count": 81,
     "metadata": {},
     "output_type": "execute_result"
    }
   ],
   "source": [
    "actio"
   ]
  },
  {
   "cell_type": "code",
   "execution_count": 82,
   "metadata": {},
   "outputs": [],
   "source": [
    "pred=torch.cat([x.unsqueeze(1),y.unsqueeze(1)],dim=1)"
   ]
  },
  {
   "cell_type": "code",
   "execution_count": 45,
   "metadata": {},
   "outputs": [],
   "source": [
    "import torch\n",
    "import torch.nn as nn\n",
    "import torch.optim as optim\n",
    "import torch.nn.functional as F"
   ]
  },
  {
   "cell_type": "code",
   "execution_count": 84,
   "metadata": {},
   "outputs": [
    {
     "data": {
      "text/plain": [
       "tensor(1198.8383, grad_fn=<MseLossBackward>)"
      ]
     },
     "execution_count": 84,
     "metadata": {},
     "output_type": "execute_result"
    }
   ],
   "source": [
    "F.mse_loss(pred,action.float())"
   ]
  },
  {
   "cell_type": "markdown",
   "metadata": {},
   "source": [
    "# Test Imitation Learning"
   ]
  },
  {
   "cell_type": "code",
   "execution_count": 1,
   "metadata": {},
   "outputs": [],
   "source": [
    "import numpy as np\n",
    "import matplotlib.pyplot as plt\n",
    "from model import StochasticPolicy\n",
    "from make_data import BoxMaker\n",
    "import torch"
   ]
  },
  {
   "cell_type": "code",
   "execution_count": 12,
   "metadata": {},
   "outputs": [
    {
     "data": {
      "text/plain": [
       "StochasticPolicy(\n",
       "  (linear1): Linear(in_features=3600, out_features=500, bias=True)\n",
       "  (linear2): Linear(in_features=500, out_features=100, bias=True)\n",
       "  (linear3_mean): Linear(in_features=100, out_features=50, bias=True)\n",
       "  (linear4_mean): Linear(in_features=50, out_features=9, bias=True)\n",
       "  (linear5_mean): Linear(in_features=12, out_features=2, bias=True)\n",
       "  (linear3_std): Linear(in_features=100, out_features=50, bias=True)\n",
       "  (linear4_std): Linear(in_features=50, out_features=9, bias=True)\n",
       "  (linear5_std): Linear(in_features=12, out_features=2, bias=True)\n",
       ")"
      ]
     },
     "execution_count": 12,
     "metadata": {},
     "output_type": "execute_result"
    }
   ],
   "source": [
    "policy = StochasticPolicy(80*45,2)\n",
    "checkpoint = torch.load('./Models/policy.pt')\n",
    "policy.load_state_dict(checkpoint['model_state_dict'])\n",
    "policy.eval()"
   ]
  },
  {
   "cell_type": "code",
   "execution_count": 13,
   "metadata": {},
   "outputs": [],
   "source": [
    "data_maker=BoxMaker()"
   ]
  },
  {
   "cell_type": "code",
   "execution_count": 14,
   "metadata": {},
   "outputs": [],
   "source": [
    "data = data_maker.get_data_dict()\n",
    "data=np.array(data)"
   ]
  },
  {
   "cell_type": "code",
   "execution_count": 15,
   "metadata": {},
   "outputs": [],
   "source": [
    "def get_shifted_action(action):\n",
    "#     action = action.detach().numpy()\n",
    "    x = action[:,0]\n",
    "    y = action[:,1]\n",
    "    y = y*40 + 40\n",
    "    x = x*45/2 + 45/2\n",
    "#     return x.astype(int),y.astype(int)\n",
    "    return x,y\n",
    "    "
   ]
  },
  {
   "cell_type": "code",
   "execution_count": 16,
   "metadata": {},
   "outputs": [],
   "source": [
    "def getFeasibility(ldc,x,y,l,b,h):\n",
    "    feasible = 0\n",
    "    if len(np.unique(ldc[x:x+b,y:y+l])) == 1 and ldc[x,y]+h<=45:\n",
    "        feasible=1\n",
    "    return feasible"
   ]
  },
  {
   "cell_type": "code",
   "execution_count": 17,
   "metadata": {},
   "outputs": [],
   "source": [
    "data = data_maker.get_data_dict()\n",
    "data=np.array(data)"
   ]
  },
  {
   "cell_type": "code",
   "execution_count": 20,
   "metadata": {},
   "outputs": [
    {
     "name": "stdout",
     "output_type": "stream",
     "text": [
      "[0, 0] 25 21 15 [0 0 0]\n",
      "PLACE\n",
      "[6, 7] 16 21 15 [ 0 25  0]\n",
      "[6, 7] 13 21 15 [ 0 41  0]\n",
      "[6, 7] 13 21 15 [ 0 54  0]\n",
      "[6, 7] 13 21 15 [ 0 67  0]\n",
      "[6, 7] 25 14 15 [21  0  0]\n",
      "[6, 7] 16 14 15 [21 25  0]\n",
      "PLACE\n",
      "[2, 8] 13 14 15 [21 41  0]\n",
      "[2, 8] 13 14 15 [21 54  0]\n",
      "[2, 8] 13 14 15 [21 67  0]\n",
      "[2, 8] 25 10 15 [35  0  0]\n",
      "[2, 8] 16 10 15 [35 25  0]\n",
      "[2, 8] 13 10 15 [35 41  0]\n",
      "[2, 8] 13 10 15 [35 54  0]\n",
      "[2, 8] 13 10 15 [35 67  0]\n",
      "[2, 8] 25 21 17 [ 0  0 15]\n",
      "[2, 8] 16 21 17 [ 0 25 15]\n",
      "[2, 8] 13 21 17 [ 0 41 15]\n",
      "[2, 8] 13 21 17 [ 0 54 15]\n",
      "[2, 8] 13 21 17 [ 0 67 15]\n",
      "[2, 8] 25 14 17 [21  0 15]\n",
      "[2, 8] 16 14 17 [21 25 15]\n",
      "[2, 8] 13 14 17 [21 41 15]\n",
      "[2, 8] 13 14 17 [21 54 15]\n",
      "[2, 8] 13 14 17 [21 67 15]\n",
      "[2, 8] 25 10 17 [35  0 15]\n",
      "[2, 8] 16 10 17 [35 25 15]\n",
      "[2, 8] 13 10 17 [35 41 15]\n",
      "[2, 8] 13 10 17 [35 54 15]\n",
      "[2, 8] 13 10 17 [35 67 15]\n",
      "[2, 8] 25 21 13 [ 0  0 32]\n",
      "[2, 8] 16 21 13 [ 0 25 32]\n",
      "[2, 8] 13 21 13 [ 0 41 32]\n",
      "[2, 8] 13 21 13 [ 0 54 32]\n",
      "[2, 8] 13 21 13 [ 0 67 32]\n",
      "[2, 8] 25 14 13 [21  0 32]\n",
      "[2, 8] 16 14 13 [21 25 32]\n",
      "[2, 8] 13 14 13 [21 41 32]\n",
      "[2, 8] 13 14 13 [21 54 32]\n",
      "[2, 8] 13 14 13 [21 67 32]\n",
      "[2, 8] 25 10 13 [35  0 32]\n",
      "[2, 8] 16 10 13 [35 25 32]\n",
      "[2, 8] 13 10 13 [35 41 32]\n",
      "[2, 8] 13 10 13 [35 54 32]\n",
      "[2, 8] 13 10 13 [35 67 32]\n",
      "6.935185185185184\n"
     ]
    }
   ],
   "source": [
    "data = data_maker.get_data_dict()\n",
    "data=np.array(data)\n",
    "ldc=np.zeros((45,80))\n",
    "act = 5\n",
    "k=3\n",
    "vol=0\n",
    "search = np.arange(0,k,1)-int(k/2)\n",
    "state = data[0,0]\n",
    "while len(data)>0:\n",
    "    num_act=0\n",
    "    state = np.copy(ldc.flatten())\n",
    "    dim = data[0,1]\n",
    "    ideal_pos=data[0,2]\n",
    "    state_feed = torch.from_numpy(np.array(state))/45\n",
    "    dim_feed   = torch.from_numpy(np.array(dim))/45\n",
    "    a,m,s=policy.sample(state_feed.unsqueeze(0).float(),dim_feed.unsqueeze(0).float())\n",
    "    x,y=get_shifted_action(a)\n",
    "    x = x.int().detach() \n",
    "    y = y.int().detach()\n",
    "    l=dim[0]\n",
    "    b=dim[1]\n",
    "    h=dim[2]\n",
    "    feasible = getFeasibility(ldc,x,y,l,b,h)\n",
    "    print([x.numpy()[0],y.numpy()[0]],l,b,h,ideal_pos)\n",
    "    if feasible:\n",
    "        ldc[x:x+b,y:y+l] += h\n",
    "        print('PLACE')\n",
    "        vol += l*b*h\n",
    "        data = np.delete(data,0,0)\n",
    "        act = 1\n",
    "    done=0\n",
    "    if not feasible:\n",
    "        act = 0\n",
    "        # check neighbouring region\n",
    "        for i in search:\n",
    "            for j in search:\n",
    "                x_test = np.maximum(0,x+i)\n",
    "                y_test = np.maximum(0,y+j)\n",
    "                x_test = np.minimum(x_test,45)\n",
    "                y_test = np.minimum(y_test,80)\n",
    "                feasible = getFeasibility(ldc,x_test,y_test,l,b,h)\n",
    "#                 print(x_test,y_test)\n",
    "                if feasible:\n",
    "                    ldc[x_test:x_test+b,y_test:y_test+l] += h\n",
    "                    vol+=l+b+h\n",
    "                    print('PLACE')\n",
    "                    data = np.delete(data,0,0)\n",
    "                    act=1\n",
    "                    done=1\n",
    "                    break\n",
    "            if done:\n",
    "                break\n",
    "        data = np.delete(data,0,0)\n",
    "                \n",
    "                \n",
    "#     plt.imshow(ldc,cmap='hot',vmin=0,vmax=45)\n",
    "#     plt.show()\n",
    "print(vol/(45*45*80)*100)"
   ]
  },
  {
   "cell_type": "code",
   "execution_count": 65,
   "metadata": {},
   "outputs": [
    {
     "data": {
      "text/plain": [
       "(36, 3)"
      ]
     },
     "execution_count": 65,
     "metadata": {},
     "output_type": "execute_result"
    }
   ],
   "source": [
    "data_copy = np.copy(data)\n",
    "data_copy.shape"
   ]
  },
  {
   "cell_type": "code",
   "execution_count": 64,
   "metadata": {},
   "outputs": [
    {
     "data": {
      "text/plain": [
       "(35, 3)"
      ]
     },
     "execution_count": 64,
     "metadata": {},
     "output_type": "execute_result"
    }
   ],
   "source": [
    "np.delete(data_copy,0,0).shape"
   ]
  },
  {
   "cell_type": "code",
   "execution_count": 66,
   "metadata": {},
   "outputs": [
    {
     "data": {
      "text/plain": [
       "36"
      ]
     },
     "execution_count": 66,
     "metadata": {},
     "output_type": "execute_result"
    }
   ],
   "source": [
    "len(data)"
   ]
  },
  {
   "cell_type": "code",
   "execution_count": 10,
   "metadata": {},
   "outputs": [],
   "source": [
    "import torch\n",
    "import torch.nn as nn\n",
    "import numpy as np\n",
    "from make_data import BoxMaker\n",
    "from model import StochasticPolicyCNN"
   ]
  },
  {
   "cell_type": "code",
   "execution_count": 11,
   "metadata": {},
   "outputs": [],
   "source": [
    "a=torch.rand((1,4,45,80))\n",
    "b = torch.rand((1,12))"
   ]
  },
  {
   "cell_type": "code",
   "execution_count": 12,
   "metadata": {},
   "outputs": [],
   "source": [
    "policy=StochasticPolicyCNN()"
   ]
  },
  {
   "cell_type": "code",
   "execution_count": 13,
   "metadata": {},
   "outputs": [
    {
     "data": {
      "text/plain": [
       "(tensor([[ 0.3243, -0.1640]], grad_fn=<TanhBackward>),\n",
       " tensor([[-1.9542]], grad_fn=<SumBackward2>),\n",
       " tensor([[ 0.4402, -0.3998]], grad_fn=<TanhBackward>))"
      ]
     },
     "execution_count": 13,
     "metadata": {},
     "output_type": "execute_result"
    }
   ],
   "source": [
    "policy.sample(a,b)"
   ]
  },
  {
   "cell_type": "code",
   "execution_count": 14,
   "metadata": {},
   "outputs": [],
   "source": [
    "data_maker = BoxMaker(45,45,80)\n",
    "data = data_maker.get_data_dict(False)"
   ]
  },
  {
   "cell_type": "code",
   "execution_count": 66,
   "metadata": {},
   "outputs": [],
   "source": [
    "state = np.zeros((4,45,80))\n",
    "dim   = np.zeros((12))"
   ]
  },
  {
   "cell_type": "code",
   "execution_count": 67,
   "metadata": {},
   "outputs": [],
   "source": [
    "replayBuffer=[]\n",
    "for i in range(5):\n",
    "    state = np.roll(state,axis=0,shift=1)\n",
    "    state[0,:,:] = data[i][0]\n",
    "#     states.append(state)\n",
    "    dim = np.roll(dim,shift=3)\n",
    "    dim[:3] = data[i][1]\n",
    "#     dims.append(dim)\n",
    "    action = data[i][2]\n",
    "    replayBuffer.append([state,dim,action])"
   ]
  },
  {
   "cell_type": "code",
   "execution_count": 71,
   "metadata": {},
   "outputs": [
    {
     "data": {
      "text/plain": [
       "array([array([[[0., 0., 0., ..., 0., 0., 0.],\n",
       "        [0., 0., 0., ..., 0., 0., 0.],\n",
       "        [0., 0., 0., ..., 0., 0., 0.],\n",
       "        ...,\n",
       "        [0., 0., 0., ..., 0., 0., 0.],\n",
       "        [0., 0., 0., ..., 0., 0., 0.],\n",
       "        [0., 0., 0., ..., 0., 0., 0.]],\n",
       "\n",
       "       [[0., 0., 0., ..., 0., 0., 0.],\n",
       "        [0., 0., 0., ..., 0., 0., 0.],\n",
       "        [0., 0., 0., ..., 0., 0., 0.],\n",
       "        ...,\n",
       "        [0., 0., 0., ..., 0., 0., 0.],\n",
       "        [0., 0., 0., ..., 0., 0., 0.],\n",
       "        [0., 0., 0., ..., 0., 0., 0.]],\n",
       "\n",
       "       [[0., 0., 0., ..., 0., 0., 0.],\n",
       "        [0., 0., 0., ..., 0., 0., 0.],\n",
       "        [0., 0., 0., ..., 0., 0., 0.],\n",
       "        ...,\n",
       "        [0., 0., 0., ..., 0., 0., 0.],\n",
       "        [0., 0., 0., ..., 0., 0., 0.],\n",
       "        [0., 0., 0., ..., 0., 0., 0.]],\n",
       "\n",
       "       [[0., 0., 0., ..., 0., 0., 0.],\n",
       "        [0., 0., 0., ..., 0., 0., 0.],\n",
       "        [0., 0., 0., ..., 0., 0., 0.],\n",
       "        ...,\n",
       "        [0., 0., 0., ..., 0., 0., 0.],\n",
       "        [0., 0., 0., ..., 0., 0., 0.],\n",
       "        [0., 0., 0., ..., 0., 0., 0.]]]),\n",
       "       array([39., 22., 19.,  0.,  0.,  0.,  0.,  0.,  0.,  0.,  0.,  0.]),\n",
       "       array([0, 0, 0])], dtype=object)"
      ]
     },
     "execution_count": 71,
     "metadata": {},
     "output_type": "execute_result"
    }
   ],
   "source": [
    "np.array(replayBuffer)[0]"
   ]
  },
  {
   "cell_type": "code",
   "execution_count": 89,
   "metadata": {},
   "outputs": [],
   "source": [
    "class ReplayBuffer(object):\n",
    "\tdef __init__(self, max_size=1e4):\n",
    "\t\tself.storage = []\n",
    "\t\tself.max_size = max_size\n",
    "\t\tself.ptr = 0\n",
    "\n",
    "\tdef add(self, data):\n",
    "\t\tif len(self.storage) == self.max_size:\n",
    "\t\t\tself.storage[int(self.ptr)] = data\n",
    "\t\t\tself.ptr = (self.ptr + 1) % self.max_size\n",
    "\t\telse:\n",
    "\t\t\tself.storage.append(data)\n",
    "\n",
    "\tdef sample(self, batch_size=1):\n",
    "\t\tind = np.random.randint(0, len(self.storage), size=batch_size)\n",
    "\t\t#[st_img,dim,action]\n",
    "\t\tx, y, u = [], [], []\n",
    "\t\tfor i in ind:\n",
    "\t\t\tX, Y, U = self.storage[i]\n",
    "\t\t\tx.append(np.array(X, copy=False))\n",
    "\t\t\ty.append(np.array(Y, copy=False))\n",
    "\t\t\tu.append(np.array(U, copy=False))\n",
    "\n",
    "\t\treturn np.array(x), np.array(y), np.array(u)\n",
    "buff = ReplayBuffer(3)\n",
    "for i in range(5):\n",
    "    state = np.roll(state,axis=0,shift=1)\n",
    "    state[0,:,:] = data[i][0]\n",
    "#     states.append(state)\n",
    "    dim = np.roll(dim,shift=3)\n",
    "    dim[:3] = data[i][1]\n",
    "#     dims.append(dim)\n",
    "    action = data[i][2][:2]\n",
    "    buff.add([state,dim,action])\n",
    "#     replayBuffer.append([state,dim,action])"
   ]
  },
  {
   "cell_type": "code",
   "execution_count": 92,
   "metadata": {},
   "outputs": [
    {
     "name": "stdout",
     "output_type": "stream",
     "text": [
      "(2, 4, 45, 80) (2, 12) (2, 2)\n"
     ]
    }
   ],
   "source": [
    "x,y,u = buff.sample(2)\n",
    "print(x.shape,y.shape,u.shape)"
   ]
  },
  {
   "cell_type": "code",
   "execution_count": 23,
   "metadata": {},
   "outputs": [],
   "source": [
    "cur_state = data[0][0]"
   ]
  },
  {
   "cell_type": "code",
   "execution_count": 51,
   "metadata": {},
   "outputs": [
    {
     "data": {
      "text/plain": [
       "array([[0., 0., 0., ..., 0., 0., 0.],\n",
       "       [0., 0., 0., ..., 0., 0., 0.],\n",
       "       [0., 0., 0., ..., 0., 0., 0.],\n",
       "       ...,\n",
       "       [0., 0., 0., ..., 0., 0., 0.],\n",
       "       [0., 0., 0., ..., 0., 0., 0.],\n",
       "       [0., 0., 0., ..., 0., 0., 0.]])"
      ]
     },
     "execution_count": 51,
     "metadata": {},
     "output_type": "execute_result"
    }
   ],
   "source": [
    "states[3][:,:,3]"
   ]
  },
  {
   "cell_type": "code",
   "execution_count": 25,
   "metadata": {},
   "outputs": [],
   "source": [
    "state[:,:,0] = cur_state"
   ]
  },
  {
   "cell_type": "code",
   "execution_count": 30,
   "metadata": {},
   "outputs": [
    {
     "data": {
      "text/plain": [
       "(45, 80, 4)"
      ]
     },
     "execution_count": 30,
     "metadata": {},
     "output_type": "execute_result"
    }
   ],
   "source": [
    "np.roll(state,axis=2,shift=1).shape"
   ]
  },
  {
   "cell_type": "markdown",
   "metadata": {},
   "source": [
    "# Test Imitation Learning with history of states"
   ]
  },
  {
   "cell_type": "code",
   "execution_count": 1,
   "metadata": {},
   "outputs": [],
   "source": [
    "from model import StochasticPolicyCNN\n",
    "import numpy as np\n",
    "import matplotlib.pyplot as plt\n",
    "import torch\n",
    "from make_data import BoxMaker"
   ]
  },
  {
   "cell_type": "code",
   "execution_count": 36,
   "metadata": {},
   "outputs": [],
   "source": [
    "def get_shifted_action(action):\n",
    "#     action = action.detach().numpy()\n",
    "    x = action[:,0]\n",
    "    y = action[:,1]\n",
    "    y = y*40 + 40\n",
    "    x = x*45/2 + 45/2\n",
    "#     return x.astype(int),y.astype(int)\n",
    "    return x,y\n",
    "\n",
    "def getFeasibility(ldc,x,y,l,b,h):\n",
    "    feasible = 0\n",
    "    if len(np.unique(ldc[x:x+b,y:y+l])) == 1 and ldc[x,y]+h<=45:\n",
    "        feasible=1\n",
    "    return feasible"
   ]
  },
  {
   "cell_type": "code",
   "execution_count": 37,
   "metadata": {},
   "outputs": [],
   "source": [
    "state = np.zeros((4,45,80))\n",
    "dim   = np.zeros((12))\n",
    "ldc = np.zeros((45,80))\n",
    "data_maker = BoxMaker(45,45,80)\n",
    "data = data_maker.get_data_dict(False)\n",
    "def show(a):\n",
    "    plt.imshow(a,cmap='hot',vmin=0,vmax=45)\n",
    "    plt.show()\n",
    "states=[]\n",
    "dims=[]\n",
    "actions=[]\n",
    "for i in range(len(data)):\n",
    "    ldc = np.copy(data[i][0])\n",
    "    state = np.roll(state,axis=0,shift=1)\n",
    "    state[0,:,:] = data[i][0]\n",
    "    states.append(state)\n",
    "    dim = np.roll(dim,shift=3)\n",
    "    dim[:3] = data[i][1]\n",
    "    dims.append(dim)\n",
    "    action = data[i][2][:2]\n",
    "    actions.append(action)"
   ]
  },
  {
   "cell_type": "code",
   "execution_count": 87,
   "metadata": {},
   "outputs": [
    {
     "name": "stdout",
     "output_type": "stream",
     "text": [
      "\n"
     ]
    }
   ],
   "source": [
    "policy = StochasticPolicyCNN()\n",
    "checkpoint = torch.load('./Models/policy.pt')\n",
    "policy.load_state_dict(checkpoint['model_state_dict'])\n",
    "policy.eval()\n",
    "print()"
   ]
  },
  {
   "cell_type": "code",
   "execution_count": 91,
   "metadata": {},
   "outputs": [],
   "source": [
    "import pandas as pd"
   ]
  },
  {
   "cell_type": "code",
   "execution_count": 100,
   "metadata": {},
   "outputs": [],
   "source": [
    "opt_df = pd.DataFrame(opt)\n",
    "opt_df = opt_df.rename(columns={0:'opt_x',1:'opt_y'})\n",
    "pred_df= pd.DataFrame(pred)\n",
    "pred_df = pred_df.rename(columns={0:'pred_x',1:'pred_y'})"
   ]
  },
  {
   "cell_type": "code",
   "execution_count": 101,
   "metadata": {},
   "outputs": [],
   "source": [
    "df = pd.concat([pred_df,opt_df],axis=1)"
   ]
  },
  {
   "cell_type": "code",
   "execution_count": 104,
   "metadata": {},
   "outputs": [
    {
     "name": "stdout",
     "output_type": "stream",
     "text": [
      "[0, 0] [0 0]\n",
      "[4, 12] [0 0]\n",
      "[0, 0] [0 0]\n",
      "[17, 16] [23  0]\n",
      "[21, 0] [23  0]\n",
      "[20, 0] [23  0]\n",
      "[31, 0] [33  0]\n",
      "[31, 0] [33  0]\n",
      "[31, 0] [33  0]\n",
      "[0, 38] [ 0 34]\n",
      "[0, 36] [ 0 34]\n",
      "[0, 32] [ 0 34]\n",
      "[23, 33] [23 34]\n",
      "[23, 34] [23 34]\n",
      "[23, 33] [23 34]\n",
      "[32, 33] [33 34]\n",
      "[33, 32] [33 34]\n",
      "[32, 32] [33 34]\n",
      "[0, 49] [ 0 48]\n",
      "[0, 47] [ 0 48]\n",
      "[0, 47] [ 0 48]\n",
      "[24, 46] [23 48]\n",
      "[23, 48] [23 48]\n",
      "[23, 47] [23 48]\n",
      "[32, 46] [33 48]\n",
      "[32, 47] [33 48]\n",
      "[32, 47] [33 48]\n",
      "[0, 62] [ 0 62]\n",
      "[0, 62] [ 0 62]\n",
      "[0, 62] [ 0 62]\n",
      "[23, 62] [23 62]\n",
      "[22, 61] [23 62]\n",
      "[22, 60] [23 62]\n",
      "[33, 61] [33 62]\n",
      "[33, 61] [33 62]\n",
      "[33, 61] [33 62]\n"
     ]
    }
   ],
   "source": [
    "state = np.zeros((4,45,80))\n",
    "dim   = np.zeros((12))\n",
    "ldc = np.zeros((45,80))\n",
    "data_maker = BoxMaker(45,45,80)\n",
    "data = data_maker.get_data_dict(False)\n",
    "def show(a):\n",
    "    plt.imshow(a,cmap='hot',vmin=0,vmax=45)\n",
    "    plt.show()\n",
    "states=[]\n",
    "dims=[]\n",
    "actions=[]\n",
    "for i in range(len(data)):\n",
    "    ldc = np.copy(data[i][0])\n",
    "    state = np.roll(state,axis=0,shift=1)\n",
    "    state[0,:,:] = data[i][0]\n",
    "    states.append(state)\n",
    "    dim = np.roll(dim,shift=3)\n",
    "    dim[:3] = data[i][1]\n",
    "    dims.append(dim)\n",
    "    action = data[i][2][:2]\n",
    "    actions.append(action)\n",
    "opt=[]\n",
    "pred=[]\n",
    "for i in range(len(states)):\n",
    "    feed_state = torch.FloatTensor(states[i]/45).unsqueeze(0)\n",
    "    feed_dim   = torch.FloatTensor(dims[i]/45).unsqueeze(0)\n",
    "    a,m,s = policy.sample(feed_state,feed_dim)\n",
    "    x = get_shifted_action(a)[0].detach().numpy()[0]\n",
    "    y = get_shifted_action(a)[1].detach().numpy()[0]\n",
    "    pred.append([int(x),int(y)])\n",
    "#     opt.append(actions[i])\n",
    "    print(str([int(x),int(y)]),str(actions[i]))\n",
    "    \n"
   ]
  },
  {
   "cell_type": "markdown",
   "metadata": {},
   "source": [
    "# Test IL with history with actual change in state"
   ]
  },
  {
   "cell_type": "code",
   "execution_count": 105,
   "metadata": {},
   "outputs": [],
   "source": [
    "import numpy as np\n",
    "import matplotlib.pyplot as plt\n",
    "import pandas as pd\n",
    "from model import StochasticPolicyCNN\n",
    "import torch\n",
    "from make_data import BoxMaker"
   ]
  },
  {
   "cell_type": "code",
   "execution_count": 106,
   "metadata": {},
   "outputs": [],
   "source": [
    "def get_shifted_action(action):\n",
    "#     action = action.detach().numpy()\n",
    "    x = action[:,0]\n",
    "    y = action[:,1]\n",
    "    y = y*40 + 40\n",
    "    x = x*45/2 + 45/2\n",
    "#     return x.astype(int),y.astype(int)\n",
    "    return x,y\n",
    "def getFeasibility(ldc,x,y,l,b,h):\n",
    "    feasible = 0\n",
    "    if len(np.unique(ldc[x:x+b,y:y+l])) == 1 and ldc[x,y]+h<=45:\n",
    "        feasible=1\n",
    "    return feasible"
   ]
  },
  {
   "cell_type": "code",
   "execution_count": 173,
   "metadata": {},
   "outputs": [],
   "source": [
    "cell_len = 80\n",
    "cell_wid = 45\n",
    "cell_ht  = 45\n",
    "max_ldc_x  = 1\n",
    "max_ldc_y =1\n",
    "def getStabilityScore(i, j , ldc, dimn, currldc_x=0, currldc_y=0):\n",
    "#     level = ldc[i,j]\n",
    "    h = dimn[2]\n",
    "    feasible = False\n",
    "    found_flat = found_not_flat = 0\n",
    "    if  (j >= cell_len*currldc_x) and (j+dimn[0] <= cell_len*(currldc_x+1)) and\\\n",
    "        (i >= cell_wid*currldc_y) and (i+dimn[1] <= cell_wid*(currldc_y+1)):\n",
    "        level = ldc[i,j]\n",
    "        if level + h <= cell_ht: \n",
    "            feasible = True\n",
    "            # --------------------------------------------------- Flat position\n",
    "            if len(np.unique(ldc[i:i+dimn[1], j:j+dimn[0]])) == 1:\n",
    "                stab_score = 1\n",
    "                found_flat = 1\n",
    "            # ---------------------------------------------------- Non-Flat position\n",
    "            if not found_flat:\n",
    "                corners =  [ldc[i,j], ldc[i+dimn[1]-1,j], ldc[i,j+dimn[0]-1], ldc[i+dimn[1]-1, j+dimn[0]-1]]\n",
    "                if (np.max(corners) == np.min(corners)) and (np.max(corners) == np.max(ldc[i:i+dimn[1],j:j+dimn[0]])):\n",
    "                    stab_score = - np.sum(np.max(corners)-ldc[i:i+dimn[1],j:j+dimn[0]])/(dimn[0]*dimn[1]*cell_ht)\n",
    "                    found_not_flat = 1\n",
    "\n",
    "\n",
    "    if (found_flat) or (found_not_flat):\n",
    "        minj = np.max((cell_len*currldc_x,j-1))\n",
    "        maxj = np.min((cell_len*(currldc_x+1),j+dimn[0]))\n",
    "        mini = np.max((cell_wid*(currldc_y),i-1))\n",
    "        maxi = np.min((cell_wid*(currldc_y+1),i+dimn[1]))\n",
    "\n",
    "        # Border for the upper edge\n",
    "        if i==currldc_y*cell_wid: \n",
    "            upper_border = (cell_ht - 1 + np.ones_like(ldc[mini,j:(j+int(dimn[0]))])).tolist()\n",
    "        else: \n",
    "            upper_border  = ldc[mini,j:(j+int(dimn[0]))].tolist()\n",
    "        # Stability for the upper edge\n",
    "        unique_ht = np.unique(upper_border)\n",
    "        if len(unique_ht) == 1:\n",
    "            stab_score += 0.5\n",
    "            if unique_ht[0] == level: stab_score -= 2\n",
    "            elif unique_ht[0] == cell_ht: stab_score += 1.5\n",
    "            else:\n",
    "                sscore = 1.-abs(unique_ht[0]-(level+h))/cell_ht\n",
    "                if (unique_ht[0]>level): stab_score += 1.5*sscore\n",
    "                else:                    stab_score += 0.75*sscore\n",
    "        else:\n",
    "            stab_score += 0.25*(1.-len(unique_ht)/h)\n",
    "            stab_score += 0.25*(1.-sum(abs(ht-(level+h)) for ht in unique_ht)/(h*len(unique_ht)))\n",
    "            stab_score += 0.50*sum(ht!=level for ht in unique_ht)/len(unique_ht)\n",
    "        #border.extend(upper_border)\n",
    "        del upper_border\n",
    "\n",
    "        # Border for the left edge\n",
    "        if j==currldc_x*cell_len:\n",
    "            left_border = (cell_ht - 1 + np.ones_like(ldc[i:(i+int(dimn[1])),minj])).tolist()\n",
    "        else: \n",
    "            left_border = ldc[i:(i+int(dimn[1])),minj].tolist()\n",
    "        # Stability for the left edge\n",
    "        unique_ht = np.unique(left_border)\n",
    "        if len(unique_ht) == 1:\n",
    "            stab_score += 0.5\n",
    "            if unique_ht[0] == level: stab_score -= 2\n",
    "            elif unique_ht[0] == cell_ht: stab_score += 1.5\n",
    "            else:\n",
    "                sscore = 1.-abs(unique_ht[0]-(level+h))/cell_ht\n",
    "                if (unique_ht[0]>level): stab_score += 1.5*sscore\n",
    "                else:                    stab_score += 0.75*sscore\n",
    "        else:\n",
    "            stab_score += 0.25*(1.-len(unique_ht)/h)\n",
    "            stab_score += 0.25*(1.-sum(abs(ht-(level+h)) for ht in unique_ht)/(h*len(unique_ht)))\n",
    "            stab_score += 0.50*sum(ht!=level for ht in unique_ht)/len(unique_ht)\n",
    "        #border.extend(left_border)\n",
    "        del left_border\n",
    "\n",
    "        # Border for the lower edge\n",
    "        if (i+dimn[1] < cell_wid*(currldc_y+1)): lower_border = ldc[maxi,j:(j+int(dimn[0]))].tolist()\n",
    "        else: lower_border = (cell_ht - 1 + np.ones_like(ldc[maxi-1,j:(j+int(dimn[0]))])).tolist()\n",
    "        # Stability for the lower edge\n",
    "        unique_ht = np.unique(lower_border)\n",
    "        if len(unique_ht) == 1:\n",
    "            stab_score += 0.5\n",
    "            if lower_border[0] == level: stab_score -= 2\n",
    "            elif lower_border[0] == cell_ht: stab_score += 1.5\n",
    "            else:\n",
    "                sscore = 1.-abs(unique_ht[0]-(level+h))/cell_ht\n",
    "                if (unique_ht[0]>level): stab_score += 1.5*sscore\n",
    "                else:                    stab_score += 0.75*sscore\n",
    "        else:\n",
    "            stab_score += 0.25*(1.-len(unique_ht)/h)\n",
    "            stab_score += 0.25*(1.-sum(abs(ht-(level+h)) for ht in unique_ht)/(h*len(unique_ht)))\n",
    "            stab_score += 0.50*sum(ht!=level for ht in unique_ht)/len(unique_ht)\n",
    "        #border.extend(lower_border)\n",
    "        del lower_border\n",
    "\n",
    "        # Border for the right edge\n",
    "        if (j+dimn[0] < (currldc_x+1)*cell_len): right_border = ldc[i:(i+int(dimn[1])),maxj].tolist()\n",
    "        else: \n",
    "            right_border = (cell_ht - 1 + np.ones_like(ldc[i:(i+int(dimn[1])),maxj-1])).tolist()\n",
    "        # Stability for the right edge\n",
    "        unique_ht = np.unique(right_border)\n",
    "        if len(unique_ht) == 1:\n",
    "            stab_score += 0.5\n",
    "            if right_border[0] == level: \n",
    "                stab_score -= 2\n",
    "            elif right_border[0] == cell_ht: \n",
    "                stab_score += 1.5\n",
    "            else:\n",
    "                sscore = 1.-abs(unique_ht[0]-(level+h))/cell_ht\n",
    "                if (unique_ht[0]>level): \n",
    "                    stab_score += 1.5*sscore\n",
    "                else:                    \n",
    "                    stab_score += 0.75*sscore\n",
    "        else:\n",
    "            stab_score += 0.25*(1.-len(unique_ht)/h)\n",
    "            stab_score += 0.25*(1.-sum(abs(ht-(level+h)) for ht in unique_ht)/(h*len(unique_ht)))\n",
    "            stab_score += 0.50*sum(ht!=level for ht in unique_ht)/len(unique_ht)\n",
    "        #border.extend(right_border)\n",
    "        del right_border\n",
    "        \n",
    "        \n",
    "        # Check the upper edge for continuity\n",
    "        if i == currldc_y*cell_wid: stab_score += 0.02\n",
    "        else:\n",
    "            # In the upper-left corner\n",
    "            if (j == currldc_x*cell_len) :\n",
    "                stab_score += 0.01\n",
    "            # In the upper-right corner\n",
    "            if ((j+dimn[0]) == (currldc_x+1)*cell_len) :\n",
    "                stab_score += 0.01\n",
    "        # Check the lower edge for continuity\n",
    "        if i+dimn[1] == cell_wid*(currldc_y+1): \n",
    "            stab_score += 0.02\n",
    "        else:\n",
    "            # In the lower-left corner\n",
    "            if (j == currldc_x*cell_len) :\n",
    "                stab_score += 0.01\n",
    "            # In the lower-right corner\n",
    "            if ((j+dimn[0]) == (currldc_x+1)*cell_len) :\n",
    "                stab_score += 0.01\n",
    "        # Check the left edge for continuity\n",
    "        if j == currldc_x*cell_len: \n",
    "            stab_score += 0.02\n",
    "        else:\n",
    "            # In the upper-left corner\n",
    "            if (i == currldc_y*cell_wid): \n",
    "                stab_score += 0.01\n",
    "            # In the lower-left corner\n",
    "            if (i+dimn[1] == cell_wid*(currldc_y+1)): \n",
    "                stab_score += 0.01\n",
    "        # Check the right edge for continuity \n",
    "        if j+dimn[0] == (currldc_x+1)*cell_len: \n",
    "            stab_score += 0.02\n",
    "        else:\n",
    "            # In the upper-left corner\n",
    "            if (i == currldc_y*cell_wid) : \n",
    "                stab_score += 0.01\n",
    "            # In the lower-left corner\n",
    "            if (i+dimn[1] == cell_wid*(currldc_y+1)): \n",
    "                stab_score += 0.01 \n",
    "            \n",
    "        stab_score -= currldc_x/max_ldc_x + currldc_y/max_ldc_y\n",
    "        stab_score -= 0.05*(i/((currldc_y+1)*cell_wid) + j/((currldc_x+1)*cell_len))\n",
    "        stab_score -= level / cell_ht\n",
    "        #stab_score += (dimn[0]*dimn[1])/(cell_len*cell_wid)\n",
    "    else:\n",
    "        stab_score = -10\n",
    "        \n",
    "    return stab_score\n"
   ]
  },
  {
   "cell_type": "code",
   "execution_count": null,
   "metadata": {},
   "outputs": [],
   "source": []
  },
  {
   "cell_type": "code",
   "execution_count": 174,
   "metadata": {},
   "outputs": [
    {
     "name": "stdout",
     "output_type": "stream",
     "text": [
      "[ 0  1  2  3  4  5 -1 -2 -3 -4 -5]\n",
      "2 2 [0, 0] [0 0]\n",
      "-10 6 [2, 8] [0 0]\n",
      "5 5 [0, 0] [0 0]\n",
      "-10 2 [2, 23] [ 0 36]\n",
      "6 6 [0, 36] [ 0 36]\n",
      "5 5 [0, 36] [ 0 36]\n",
      "5 5 [0, 63] [ 0 63]\n",
      "7 7 [0, 63] [ 0 63]\n",
      "6 6 [0, 63] [ 0 63]\n",
      "2 2 [10, 0] [10  0]\n",
      "6 6 [10, 0] [10  0]\n",
      "5 5 [10, 0] [10  0]\n",
      "1 1 [10, 36] [10 36]\n",
      "6 6 [10, 36] [10 36]\n",
      "5 5 [10, 36] [10 36]\n",
      "5 5 [10, 63] [10 63]\n",
      "7 7 [10, 63] [10 63]\n",
      "6 6 [10, 63] [10 63]\n",
      "2 2 [23, 0] [23  0]\n",
      "6 6 [23, 0] [23  0]\n",
      "5 5 [23, 0] [23  0]\n",
      "1 1 [23, 36] [23 36]\n",
      "6 6 [23, 36] [23 36]\n",
      "5 5 [23, 36] [23 36]\n",
      "5 5 [23, 63] [23 63]\n",
      "7 7 [23, 63] [23 63]\n",
      "6 6 [23, 63] [23 63]\n",
      "5 5 [35, 0] [35  0]\n",
      "7 7 [35, 0] [35  0]\n",
      "6 6 [35, 0] [35  0]\n",
      "5 5 [35, 36] [35 36]\n",
      "7 7 [35, 36] [35 36]\n",
      "6 6 [35, 36] [35 36]\n",
      "8 8 [35, 63] [35 63]\n",
      "8 8 [35, 63] [35 63]\n",
      "8 8 [35, 63] [35 63]\n"
     ]
    }
   ],
   "source": [
    "state = np.zeros((4,45,80))\n",
    "dim   = np.zeros((12))\n",
    "ldc = np.zeros((45,80))\n",
    "data_maker = BoxMaker(45,45,80)\n",
    "data = data_maker.get_data_dict(False)\n",
    "def show(a):\n",
    "    plt.imshow(a,cmap='hot',vmin=0,vmax=45)\n",
    "    plt.show()\n",
    "states=[]\n",
    "dims=[]\n",
    "actions=[]\n",
    "for i in range(len(data)):\n",
    "    ldc = np.copy(data[i][0])\n",
    "    state = np.roll(state,axis=0,shift=1)\n",
    "    state[0,:,:] = data[i][0]\n",
    "    states.append(state)\n",
    "    dim = np.roll(dim,shift=3)\n",
    "    dim[:3] = data[i][1]\n",
    "    dims.append(dim)\n",
    "    action = data[i][2][:2]\n",
    "    actions.append(action)\n",
    "    \n",
    "opt=[]\n",
    "pred=[]\n",
    "state = np.zeros((4,45,80))\n",
    "search_range=6 # will search in +-search_range\n",
    "search = np.arange(0,search_range,1)\n",
    "neg_search = -np.arange(1,search_range,1)\n",
    "search_arr = np.append(search,neg_search)\n",
    "# search = np.arange(1,search_range,1)\n",
    "# search_arr = np.append(search,-search)\n",
    "print(search_arr)\n",
    "for i in range(len(dims)):\n",
    "#     state = \n",
    "    cur_dim = np.array(dims[i][:3]).astype(np.uint16)\n",
    "    feed_state = torch.FloatTensor(states[i]/45).unsqueeze(0)\n",
    "    feed_dim   = torch.FloatTensor(dims[i]/45).unsqueeze(0)\n",
    "    a,m,s = policy.sample(feed_state,feed_dim)\n",
    "    x = int(get_shifted_action(a)[0].detach().numpy()[0])\n",
    "    y = int(get_shifted_action(a)[1].detach().numpy()[0])\n",
    "    pred.append([x,y])\n",
    "    opt.append(actions[i])\n",
    "    opt_x = actions[i][0]\n",
    "    opt_y = actions[i][1]\n",
    "    score = getStabilityScore(x,y , states[i][0,:,:], dimn = cur_dim, currldc_x=0, currldc_y=0)\n",
    "    opt_score = getStabilityScore(opt_x,opt_y , states[i][0,:,:], dimn = cur_dim, currldc_x=0, currldc_y=0)\n",
    "#     if score == -10:\n",
    "    found=0\n",
    "    for x_s in search_arr:\n",
    "        for y_s in search_arr:\n",
    "#                 print(x_s,y_s)\n",
    "            search_score = getStabilityScore(x+x_s,y+y_s , states[i][0,:,:], dimn = cur_dim, currldc_x=0, currldc_y=0)\n",
    "            if search_score == opt_score:\n",
    "                score = search_score\n",
    "                found = 1\n",
    "                x = x+x_s\n",
    "                y = y+y_s\n",
    "                break\n",
    "        if found:\n",
    "            break\n",
    "    print(int(score),int(opt_score),str([int(x),int(y)]),str(actions[i]))\n",
    "#     print(str([int(x),int(y)]),str(actions[i]))\n",
    "    "
   ]
  },
  {
   "cell_type": "code",
   "execution_count": 189,
   "metadata": {},
   "outputs": [
    {
     "name": "stdout",
     "output_type": "stream",
     "text": [
      "[ 0  1  2  3  4  5 -1 -2 -3 -4 -5]\n",
      "2 2 [0, 0] [0 0]\n",
      "-10 2 [1, 17] [12  0]\n",
      "5 5 [29, 0] [29  0]\n",
      "2 2 [0, 45] [ 0 45]\n",
      "1 1 [12, 45] [12 45]\n",
      "5 5 [29, 45] [29 45]\n",
      "5 5 [0, 68] [ 0 68]\n",
      "5 5 [12, 68] [12 68]\n",
      "8 8 [29, 68] [29 68]\n",
      "1 1 [0, 0] [0 0]\n",
      "1 1 [12, 0] [12  0]\n",
      "5 5 [29, 0] [29  0]\n",
      "1 1 [0, 45] [ 0 45]\n",
      "1 1 [12, 45] [12 45]\n",
      "5 5 [29, 45] [29 45]\n",
      "5 5 [0, 68] [ 0 68]\n",
      "5 5 [12, 68] [12 68]\n",
      "8 8 [29, 68] [29 68]\n",
      "1 1 [0, 0] [0 0]\n",
      "1 1 [12, 0] [12  0]\n",
      "4 4 [29, 0] [29  0]\n",
      "1 1 [0, 45] [ 0 45]\n",
      "1 1 [12, 45] [12 45]\n",
      "4 4 [29, 45] [29 45]\n",
      "4 4 [0, 68] [ 0 68]\n",
      "4 4 [12, 68] [12 68]\n",
      "8 8 [29, 68] [29 68]\n"
     ]
    }
   ],
   "source": [
    "state = np.zeros((4,45,80))\n",
    "dim   = np.zeros((12))\n",
    "ldc = np.zeros((45,80))\n",
    "data_maker = BoxMaker(45,45,80)\n",
    "data = data_maker.get_data_dict(False)\n",
    "def show(a):\n",
    "    plt.imshow(a,cmap='hot',vmin=0,vmax=45)\n",
    "    plt.show()\n",
    "states=[]\n",
    "dims=[]\n",
    "actions=[]\n",
    "for i in range(len(data)):\n",
    "    ldc = np.copy(data[i][0])\n",
    "    state = np.roll(state,axis=0,shift=1)\n",
    "    state[0,:,:] = data[i][0]\n",
    "    states.append(state)\n",
    "    dim = np.roll(dim,shift=3)\n",
    "    dim[:3] = data[i][1]\n",
    "    dims.append(dim)\n",
    "    action = data[i][2][:2]\n",
    "    actions.append(action)\n",
    "    \n",
    "opt=[]\n",
    "pred=[]\n",
    "state = np.zeros((4,45,80))\n",
    "search_range=6 # will search in +-search_range\n",
    "search = np.arange(0,search_range,1)\n",
    "neg_search = -np.arange(1,search_range,1)\n",
    "search_arr = np.append(search,neg_search)\n",
    "# search = np.arange(1,search_range,1)\n",
    "# search_arr = np.append(search,-search)\n",
    "print(search_arr)\n",
    "for i in range(len(dims)):\n",
    "#     state = \n",
    "    cur_dim = np.array(dims[i][:3]).astype(np.uint16)\n",
    "    feed_state = torch.FloatTensor(states[i]/45).unsqueeze(0)\n",
    "    feed_dim   = torch.FloatTensor(dims[i]/45).unsqueeze(0)\n",
    "    a,m,s = policy.sample(feed_state,feed_dim)\n",
    "    x = int(get_shifted_action(a)[0].detach().numpy()[0])\n",
    "    y = int(get_shifted_action(a)[1].detach().numpy()[0])\n",
    "    pred.append([x,y])\n",
    "    opt.append(actions[i])\n",
    "    opt_x = actions[i][0]\n",
    "    opt_y = actions[i][1]\n",
    "    score = getStabilityScore(x,y , states[i][0,:,:], dimn = cur_dim, currldc_x=0, currldc_y=0)\n",
    "    opt_score = getStabilityScore(opt_x,opt_y , states[i][0,:,:], dimn = cur_dim, currldc_x=0, currldc_y=0)\n",
    "    if score <=0:\n",
    "        x_nw = x\n",
    "        y_nw = y\n",
    "        for x_s in search_arr:\n",
    "            for y_s in search_arr:\n",
    "#                     print(x_s,y_s)\n",
    "                search_score = getStabilityScore(x_nw+x_s,y_nw+y_s , states[i][0,:,:], dimn = cur_dim, currldc_x=0, currldc_y=0)\n",
    "                if search_score > score:\n",
    "                    score = search_score\n",
    "                    x = x_nw+x_s\n",
    "                    y = y_nw+y_s\n",
    "    print(int(score),int(opt_score),str([int(x),int(y)]),str(actions[i]))\n",
    "#     print(str([int(x),int(y)]),str(actions[i]))\n",
    "    "
   ]
  },
  {
   "cell_type": "markdown",
   "metadata": {},
   "source": [
    "# The real deal"
   ]
  },
  {
   "cell_type": "code",
   "execution_count": 391,
   "metadata": {},
   "outputs": [
    {
     "name": "stdout",
     "output_type": "stream",
     "text": [
      "100.0 95.78703703703704 4.212962962962963\n"
     ]
    },
    {
     "data": {
      "image/png": "[encoded data removed]",
      "text/plain": [
       "<Figure size 432x288 with 1 Axes>"
      ]
     },
     "metadata": {
      "needs_background": "light"
     },
     "output_type": "display_data"
    }
   ],
   "source": [
    "search_range=6 # will search in +-search_range\n",
    "search = np.arange(0,search_range,1)\n",
    "neg_search = -np.arange(1,search_range,1)\n",
    "search_arr = np.append(search,neg_search)\n",
    "\n",
    "def show(a):\n",
    "    plt.imshow(a,cmap='hot',vmin=0,vmax=45)\n",
    "    plt.show()\n",
    "    \n",
    "def step(state,action,dims):\n",
    "    l,b,h = dims\n",
    "    x,y = action\n",
    "    ldc = np.copy(state[0,:,:])\n",
    "    state = np.roll(state,axis=0,shift=1)\n",
    "    state[0,:,:] = ldc\n",
    "    state[0,x:x+b,y:y+l] += h\n",
    "    return state\n",
    "\n",
    "def get_pos(state,dim):\n",
    "    feed_state = torch.FloatTensor(state/45).unsqueeze(0)\n",
    "    feed_dim   = torch.FloatTensor(dim/45).unsqueeze(0)\n",
    "    cur_dim = np.array(dims[i][:3]).astype(np.uint16)\n",
    "    a,m,s = policy.sample(feed_state,feed_dim)\n",
    "    x = int(get_shifted_action(a)[0].detach().numpy()[0])\n",
    "    y = int(get_shifted_action(a)[1].detach().numpy()[0])\n",
    "    score = getStabilityScore(x,y , state[0,:,:], dimn = cur_dim, currldc_x=0, currldc_y=0)\n",
    "    if score <= 0:\n",
    "        x_nw = x\n",
    "        y_nw = y\n",
    "        for x_s in search_arr:\n",
    "            for y_s in search_arr:\n",
    "                search_score = getStabilityScore(x_nw+x_s,y_nw+y_s , state[0,:,:], dimn = cur_dim, currldc_x=0, currldc_y=0)\n",
    "                if search_score > score:\n",
    "                    score = search_score\n",
    "                    x = x_nw+x_s\n",
    "                    y = y_nw+y_s\n",
    "    return x,y,score\n",
    "\n",
    "state = np.zeros((4,45,80))\n",
    "dim   = np.zeros((12))\n",
    "ldc = np.zeros((45,80))\n",
    "data_maker = BoxMaker(45,45,80)\n",
    "data = data_maker.get_data_dict(False)\n",
    "states=[]\n",
    "dims=[]\n",
    "actions=[]\n",
    "for i in range(len(data)):\n",
    "    ldc = np.copy(data[i][0])\n",
    "    state = np.roll(state,axis=0,shift=1)\n",
    "    state[0,:,:] = data[i][0]\n",
    "    states.append(state)\n",
    "    dim = np.roll(dim,shift=3)\n",
    "    dim[:3] = data[i][1]\n",
    "    dims.append(dim)\n",
    "    action = data[i][2][:2]\n",
    "    actions.append(action)\n",
    "\n",
    "# tot_vol = 0\n",
    "# state = np.zeros((4,45,80))\n",
    "# for i in range(len(dims)):\n",
    "#     cur_dim = np.array(dims[i][:3]).astype(np.uint16)\n",
    "#     x,y,score = get_pos(state,dims[i])\n",
    "# #     print(x,y)\n",
    "# #     print(score)\n",
    "#     if score!= -10:\n",
    "#         state = step(state,[x,y],cur_dim)\n",
    "#         tot_vol += cur_dim[0]*cur_dim[1]*cur_dim[2]\n",
    "# print(tot_vol/(80*45*45)*100)\n",
    "# show(state[0,:,:])\n",
    "\n",
    "tot_vol = 0\n",
    "state = np.zeros((4,45,80))\n",
    "orig_len = len(dims)\n",
    "# print(orig_len)\n",
    "i = 0\n",
    "search_space=[]\n",
    "# while len(dims)>0:\n",
    "walle_vol = 0\n",
    "packman_vol=0\n",
    "for i in range(len(dims)):\n",
    "    packman = 0\n",
    "    cur_dim = np.array(dims[i][:3]).astype(np.uint16)\n",
    "    l,b,h = cur_dim\n",
    "    x,y,score = get_pos(state,dims[i])\n",
    "#     print(score)\n",
    "    if score!= -10:\n",
    "        state = step(state,[x,y],cur_dim)\n",
    "        search_space.append([x,y])\n",
    "        search_space.append([x+b,y])\n",
    "        search_space.append([x,y+l])\n",
    "        tot_vol += cur_dim[0]*cur_dim[1]*cur_dim[2]\n",
    "        packman_vol+=cur_dim[0]*cur_dim[1]*cur_dim[2]\n",
    "        packman = 1\n",
    "    if score == -10:\n",
    "#         dims.append(dims[i])\n",
    "        max_score = -10\n",
    "        x_pos = 0\n",
    "        y_pos = 0\n",
    "        for x_w,y_w in search_space:\n",
    "            walle_score = getStabilityScore(x_w,y_w , state[0,:,:], dimn = cur_dim, currldc_x=0, currldc_y=0)\n",
    "            if walle_score > max_score:\n",
    "                max_score = walle_score\n",
    "                x_pos = x_w\n",
    "                y_pos = y_w\n",
    "        if walle_score != -10:\n",
    "            x = x_pos; y = y_pos\n",
    "            state = step(state,[x,y],cur_dim)\n",
    "            search_space.append([x,y])\n",
    "            search_space.append([x+b,y])\n",
    "            search_space.append([x,y+l])\n",
    "            tot_vol += cur_dim[0]*cur_dim[1]*cur_dim[2]\n",
    "            walle_vol+=cur_dim[0]*cur_dim[1]*cur_dim[2]\n",
    "    if packman:\n",
    "        plt.imshow(state[0,:,:],cmap='hot',vmin=0,vmax=45)\n",
    "        plt.title('Packman')\n",
    "        plt.savefig('State_'+str(i)+'.png')\n",
    "    if not packman:\n",
    "        plt.imshow(state[0,:,:],cmap='hot',vmin=0,vmax=45)\n",
    "        plt.title('Walle')\n",
    "        plt.savefig('State_'+str(i)+'.png')\n",
    "    \n",
    "                \n",
    "#     if i == 1*orig_len:\n",
    "#         break\n",
    "#     i += 1\n",
    "print(tot_vol/(80*45*45)*100,packman_vol/(80*45*45)*100,walle_vol/(80*45*45)*100)\n",
    "show(state[0,:,:])\n"
   ]
  },
  {
   "cell_type": "markdown",
   "metadata": {},
   "source": [
    "# Just WallE"
   ]
  },
  {
   "cell_type": "code",
   "execution_count": 382,
   "metadata": {},
   "outputs": [
    {
     "name": "stdout",
     "output_type": "stream",
     "text": [
      "7.991975308641976 7.991975308641976\n"
     ]
    },
    {
     "data": {
      "image/png": "[encoded data removed]",
      "text/plain": [
       "<Figure size 432x288 with 1 Axes>"
      ]
     },
     "metadata": {
      "needs_background": "light"
     },
     "output_type": "display_data"
    }
   ],
   "source": [
    "search_range=6 # will search in +-search_range\n",
    "search = np.arange(0,search_range,1)\n",
    "neg_search = -np.arange(1,search_range,1)\n",
    "search_arr = np.append(search,neg_search)\n",
    "\n",
    "def show(a):\n",
    "    plt.imshow(a,cmap='hot',vmin=0,vmax=45)\n",
    "    plt.show()\n",
    "    \n",
    "def step(state,action,dims):\n",
    "    l,b,h = dims\n",
    "    x,y = action\n",
    "    ldc = np.copy(state[0,:,:])\n",
    "    state = np.roll(state,axis=0,shift=1)\n",
    "    state[0,:,:] = ldc\n",
    "    state[0,x:x+b,y:y+l] += h\n",
    "    return state\n",
    "\n",
    "def get_pos(state,dim):\n",
    "    feed_state = torch.FloatTensor(state/45).unsqueeze(0)\n",
    "    feed_dim   = torch.FloatTensor(dim/45).unsqueeze(0)\n",
    "    cur_dim = np.array(dims[i][:3]).astype(np.uint16)\n",
    "    a,m,s = policy.sample(feed_state,feed_dim)\n",
    "    x = int(get_shifted_action(a)[0].detach().numpy()[0])\n",
    "    y = int(get_shifted_action(a)[1].detach().numpy()[0])\n",
    "    score = getStabilityScore(x,y , state[0,:,:], dimn = cur_dim, currldc_x=0, currldc_y=0)\n",
    "    if score <= 0:\n",
    "        x_nw = x\n",
    "        y_nw = y\n",
    "        for x_s in search_arr:\n",
    "            for y_s in search_arr:\n",
    "                search_score = getStabilityScore(x_nw+x_s,y_nw+y_s , state[0,:,:], dimn = cur_dim, currldc_x=0, currldc_y=0)\n",
    "                if search_score > score:\n",
    "                    score = search_score\n",
    "                    x = x_nw+x_s\n",
    "                    y = y_nw+y_s\n",
    "    return x,y,score\n",
    "\n",
    "state = np.zeros((4,45,80))\n",
    "dim   = np.zeros((12))\n",
    "ldc = np.zeros((45,80))\n",
    "data_maker = BoxMaker(45,45,80)\n",
    "data = data_maker.get_data_dict(False)\n",
    "states=[]\n",
    "dims=[]\n",
    "actions=[]\n",
    "search_space=[[0,0]]\n",
    "\n",
    "def get_walle_pos(state,cur_dim):\n",
    "    l,b,h = cur_dim\n",
    "    max_score = -10\n",
    "    x_max = 0\n",
    "    y_max = 0\n",
    "    for x_pos,y_pos in search_space:\n",
    "        score = getStabilityScore(x_pos,y_pos , state[0,:,:], dimn = cur_dim, currldc_x=0, currldc_y=0)\n",
    "        if score > max_score:\n",
    "            max_score = score\n",
    "            x_max = x_pos\n",
    "            y_max = y_pos        \n",
    "    return x_pos,y_pos,score\n",
    "\n",
    "for i in range(len(data)):\n",
    "    ldc = np.copy(data[i][0])\n",
    "    state = np.roll(state,axis=0,shift=1)\n",
    "    state[0,:,:] = data[i][0]\n",
    "    states.append(state)\n",
    "    dim = np.roll(dim,shift=3)\n",
    "    dim[:3] = data[i][1]\n",
    "    dims.append(dim)\n",
    "    action = data[i][2][:2]\n",
    "    actions.append(action)\n",
    "\n",
    "\n",
    "tot_vol = 0\n",
    "state = np.zeros((4,45,80))\n",
    "orig_len = len(dims)\n",
    "# print(orig_len)\n",
    "i = 0\n",
    "# search_space=[]\n",
    "# while len(dims)>0:\n",
    "walle_vol = 0\n",
    "# packman_vol=0\n",
    "for i in range(len(dims)):\n",
    "    cur_dim = np.array(dims[i][:3]).astype(np.uint16)\n",
    "    l,b,h = cur_dim\n",
    "    x,y,score = get_walle_pos(state,cur_dim)\n",
    "#     print(score)\n",
    "    if score!= -10:\n",
    "        state = step(state,[x,y],cur_dim)\n",
    "        search_space.append([x,y])\n",
    "        search_space.append([x+b,y])\n",
    "        search_space.append([x,y+l])\n",
    "        tot_vol += cur_dim[0]*cur_dim[1]*cur_dim[2]\n",
    "        walle_vol+=cur_dim[0]*cur_dim[1]*cur_dim[2]\n",
    "#     if score == -10:\n",
    "# #         dims.append(dims[i])\n",
    "#         max_score = -10\n",
    "#         x_pos = 0\n",
    "#         y_pos = 0\n",
    "#         for x_w,y_w in search_space:\n",
    "#             walle_score = getStabilityScore(x_w,y_w , state[0,:,:], dimn = cur_dim, currldc_x=0, currldc_y=0)\n",
    "#             if walle_score > max_score:\n",
    "#                 max_score = walle_score\n",
    "#                 x_pos = x_w\n",
    "#                 y_pos = y_w\n",
    "#         if walle_score != -10:\n",
    "#             x = x_pos; y = y_pos\n",
    "#             state = step(state,[x,y],cur_dim)\n",
    "#             search_space.append([x,y])\n",
    "#             search_space.append([x+b,y])\n",
    "#             search_space.append([x,y+l])\n",
    "#             tot_vol += cur_dim[0]*cur_dim[1]*cur_dim[2]\n",
    "#             walle_vol+=cur_dim[0]*cur_dim[1]*cur_dim[2]\n",
    "                \n",
    "#     if i == 1*orig_len:\n",
    "#         break\n",
    "#     i += 1\n",
    "print(tot_vol/(80*45*45)*100,walle_vol/(80*45*45)*100)\n",
    "show(state[0,:,:])\n"
   ]
  },
  {
   "cell_type": "code",
   "execution_count": null,
   "metadata": {},
   "outputs": [],
   "source": []
  }
 ],
 "metadata": {
  "kernelspec": {
   "display_name": "Python 3",
   "language": "python",
   "name": "python3"
  },
  "language_info": {
   "codemirror_mode": {
    "name": "ipython",
    "version": 3
   },
   "file_extension": ".py",
   "mimetype": "text/x-python",
   "name": "python",
   "nbconvert_exporter": "python",
   "pygments_lexer": "ipython3",
   "version": "3.6.8"
  }
 },
 "nbformat": 4,
 "nbformat_minor": 2
}
